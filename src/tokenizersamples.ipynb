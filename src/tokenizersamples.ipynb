{
 "cells": [
  {
   "cell_type": "code",
   "execution_count": 21,
   "metadata": {},
   "outputs": [
    {
     "name": "stdout",
     "output_type": "stream",
     "text": [
      "Encoded tokens: [151646, 151646, 2610, 525, 264, 11657, 6236, 6331, 879, 2677, 30580, 304, 279, 1707, 315, 264, 53966, 151645, 151648, 198]\n",
      "Decoded text: <｜begin▁of▁sentence｜><｜begin▁of▁sentence｜>You are a friendly chatbot who always responds in the style of a pirate<｜Assistant｜><think>\n",
      "\n",
      "Encoded tokens: {'input_ids': [57304, 429, 3880, 311, 1598], 'attention_mask': [1, 1, 1, 1, 1]}\n",
      "Decoded text: stuff that needs to run<｜end▁of▁sentence｜>\n",
      "Done!\n"
     ]
    }
   ],
   "source": [
    "from transformers import AutoTokenizer\n",
    "\n",
    "# Load the tokenizer\n",
    "tokenizer = AutoTokenizer.from_pretrained(\"deepseek-ai/DeepSeek-R1-Distill-Qwen-1.5B\")\n",
    "tokenizer21 = AutoTokenizer.from_pretrained(\"deepseek-ai/DeepSeek-R1-Distill-Qwen-7B\")\n",
    "\n",
    "# Define sample messages using a chat template\n",
    "messages = [\n",
    "    {\n",
    "        \"role\": \"system\",\n",
    "        \"content\": \"You are a friendly chatbot who always responds in the style of a pirate\",\n",
    "    }\n",
    " ]\n",
    "\n",
    "# Create a simple chat string template\n",
    "chat_text  = tokenizer.apply_chat_template(messages, tokenize=False, add_generation_prompt=True)\n",
    "\n",
    "# Encode the concatenated chat text\n",
    "encoded = tokenizer.encode(chat_text)\n",
    "print(\"Encoded tokens:\", encoded)\n",
    "\n",
    "# Decode the encoded tokens\n",
    "decoded = tokenizer.decode(encoded)\n",
    "print(\"Decoded text:\", decoded)\n",
    "\n",
    "# Encode the concatenated chat text\n",
    "encoded = tokenizer21(\"stuff that needs to run\", add_special_tokens=False)\n",
    "print(\"Encoded tokens:\", encoded)\n",
    "\n",
    "# Decode the encoded tokens\n",
    "decoded = tokenizer21.decode(encoded[\"input_ids\"] + [tokenizer21.eos_token_id])\n",
    "print(\"Decoded text:\", decoded)\n",
    "\n",
    "print(\"Done!\")\n"
   ]
  }
 ],
 "metadata": {
  "kernelspec": {
   "display_name": ".venv",
   "language": "python",
   "name": "python3"
  },
  "language_info": {
   "codemirror_mode": {
    "name": "ipython",
    "version": 3
   },
   "file_extension": ".py",
   "mimetype": "text/x-python",
   "name": "python",
   "nbconvert_exporter": "python",
   "pygments_lexer": "ipython3",
   "version": "3.13.2"
  }
 },
 "nbformat": 4,
 "nbformat_minor": 2
}
