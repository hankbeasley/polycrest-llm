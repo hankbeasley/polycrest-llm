{
 "cells": [
  {
   "cell_type": "code",
   "execution_count": 14,
   "metadata": {},
   "outputs": [],
   "source": [
    "from threading import Thread\n",
    "import os\n",
    "import torch\n",
    "from transformers import AutoModelForCausalLM, AutoTokenizer, TextIteratorStreamer\n",
    "\n",
    "from trl import (\n",
    "    ModelConfig,\n",
    "    RewardConfig,\n",
    "    RewardTrainer,\n",
    "    ScriptArguments,\n",
    "    get_kbit_device_map,\n",
    "    get_peft_config,\n",
    "    get_quantization_config,\n",
    "    setup_chat_format,\n",
    ")\n",
    "\n",
    "from transformers import DataCollatorWithPadding\n",
    "from typing import List, Dict, Any\n",
    "from transformers import PreTrainedTokenizerBase"
   ]
  },
  {
   "cell_type": "code",
   "execution_count": 15,
   "metadata": {},
   "outputs": [],
   "source": [
    "from datasets import load_dataset\n",
    "ds = load_dataset(\"Hankbeasley/polycoder\")\n",
    "\n",
    "\n",
    "\n",
    "\n"
   ]
  },
  {
   "cell_type": "code",
   "execution_count": 16,
   "metadata": {},
   "outputs": [
    {
     "name": "stdout",
     "output_type": "stream",
     "text": [
      "Dataset({\n",
      "    features: ['testname', 'accept', 'reject', 'prompt', 'chosen', 'rejected'],\n",
      "    num_rows: 8938\n",
      "})\n"
     ]
    }
   ],
   "source": [
    "def preprocess_function(examples):\n",
    "    parts = examples['accept'].split('<think>')\n",
    "    if (len(parts) < 2 or len(parts) > 2):\n",
    "        return None\n",
    "    assistantparts = examples['accept'].split(\"<｜Assistant｜>\")\n",
    "    if (len(assistantparts) > 2):\n",
    "        return None\n",
    "    examples['prompt'] = parts[0]\n",
    "    examples['chosen'] = parts[1]\n",
    "    partsrejected = examples['reject'].split('<think>')\n",
    "    examples['rejected'] = \"<think>\" + partsrejected[1]\n",
    "    return examples\n",
    "\n",
    "ds = ds['train'].map(preprocess_function)\n",
    "print(ds)\n",
    "formated = ds.remove_columns(['accept', 'reject', 'testname'])\n"
   ]
  },
  {
   "cell_type": "code",
   "execution_count": null,
   "metadata": {},
   "outputs": [],
   "source": [
    "\n",
    "#print(formated[0]['prompt'])\n",
    "#print(formated)\n",
    "parts = ds['train'][0]['accept'].split('<think>')\n",
    "prompt = ds['train'][0]['accept'].split('<think>')[0]\n",
    "#print(parts[1])\n",
    "\n",
    "tokenizer = AutoTokenizer.from_pretrained(\"deepseek-ai/DeepSeek-R1-Distill-Qwen-1.5B\")\n",
    "tokenized = tokenizer(formated[0]['rejected'], add_special_tokens=True)\n",
    "#print(tokenized[\"input_ids\"])\n",
    "#print(tokenizer.convert_ids_to_tokens(tokenized[\"input_ids\"]))\n",
    "#print(tokenizer.eos_token)\n"
   ]
  }
 ],
 "metadata": {
  "kernelspec": {
   "display_name": ".venv",
   "language": "python",
   "name": "python3"
  },
  "language_info": {
   "codemirror_mode": {
    "name": "ipython",
    "version": 3
   },
   "file_extension": ".py",
   "mimetype": "text/x-python",
   "name": "python",
   "nbconvert_exporter": "python",
   "pygments_lexer": "ipython3",
   "version": "3.13.1"
  }
 },
 "nbformat": 4,
 "nbformat_minor": 2
}
